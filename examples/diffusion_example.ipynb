{
 "cells": [
  {
   "cell_type": "markdown",
   "id": "bb3ee251-c456-4048-8fed-bd0057602c6f",
   "metadata": {},
   "source": [
    "<h3 style=\"text-align: center;\"><span style=\"color:red\">This example that can be overwritten by container updates.</span></h3>\n",
    "<h4 style=\"text-align: center;\"><span style=\"color:red\">Please create a new notebook if you plan to make changes.</span></h4>\n",
    "\n",
    "## Intro\n",
    "\n",
    "This example jupyter file demonstrates basic [stable diffusion](https://huggingface.co/docs/diffusers/api/pipelines/stable_diffusion/stable_diffusion_2#texttoimage) functionality.\n",
    "\n",
    "## Getting started\n",
    "\n",
    "Run each cell to step through the process, including (first-time only) downloading a model to use.\n",
    "Note: Run cells, in order, at least once, to set up the environment.  Once set up, you can change the prompt and rerun just that cell.  If you make changes in a cell, that cell should be rerun for the changes to take effect."
   ]
  },
  {
   "cell_type": "code",
   "execution_count": null,
   "id": "ba57c8c6-5fc1-495a-89f2-629c8587d14b",
   "metadata": {},
   "outputs": [],
   "source": [
    "from dataclasses import dataclass, field, asdict\n",
    "import torch\n",
    "\n",
    "@dataclass\n",
    "class Model:\n",
    "    name: str\n",
    "    repo_id: str\n",
    "    variant: str = None\n",
    "    torch_dtype: str = None\n",
    "    foldername: str = field(init=False)\n",
    "\n",
    "    def __post_init__(self):\n",
    "        # Set the value of foldername based on repo_id\n",
    "        self.foldername = self.repo_id.split(\"/\")[1]\n",
    "\n",
    "    def fp16(self):\n",
    "        self.variant = \"fp16\"\n",
    "        self.torch_dtype = torch.float16\n",
    "        return self\n",
    "\n",
    "    def pretrain_options(self):\n",
    "        return self._filter([\"name\", \"repo_id\", \"foldername\"])\n",
    "\n",
    "    def _filter(self, excludes):\n",
    "        # Return the members that aren't set to None or in excludes\n",
    "        return {k:v for k,v in asdict(self).items() if (v is not None and k not in excludes)}\n",
    "\n",
    "models = {\n",
    "    \"sd2\"        : Model(\"sd2\", \"stabilityai/stable-diffusion-2-base\"),\n",
    "    \"sd-turbo\"   : Model(\"sd-turbo\", \"stabilityai/sd-turbo\"),\n",
    "    \"sdxl\"       : Model(\"sdxl\", \"stabilityai/stable-diffusion-xl-base-1.0\"),\n",
    "}\n",
    "\n",
    "model = models[\"sd2\"].fp16()\n",
    "model"
   ]
  },
  {
   "cell_type": "code",
   "execution_count": null,
   "id": "b002f935-e1f2-4bf3-8588-a0f372157569",
   "metadata": {},
   "outputs": [],
   "source": [
    "from diffusers import AutoPipelineForText2Image\n",
    "\n",
    "pipe = AutoPipelineForText2Image.from_pretrained(model.repo_id, **model.pretrain_options())\n",
    "pipe.to(\"cuda\")\n",
    "\n",
    "prompt = \"A cinematic shot of a baby racoon wearing an intricate italian priest robe.\"\n",
    "image = pipe(prompt=prompt).images[0]\n",
    "image"
   ]
  },
  {
   "cell_type": "code",
   "execution_count": null,
   "id": "b6ccf32a-b3d8-4fac-a2ac-b8fa05f16c2f",
   "metadata": {},
   "outputs": [],
   "source": []
  }
 ],
 "metadata": {
  "kernelspec": {
   "display_name": "Python 3 (ipykernel)",
   "language": "python",
   "name": "python3"
  },
  "language_info": {
   "codemirror_mode": {
    "name": "ipython",
    "version": 3
   },
   "file_extension": ".py",
   "mimetype": "text/x-python",
   "name": "python",
   "nbconvert_exporter": "python",
   "pygments_lexer": "ipython3",
   "version": "3.11.7"
  }
 },
 "nbformat": 4,
 "nbformat_minor": 5
}
