{
 "cells": [
  {
   "cell_type": "markdown",
   "id": "bb3ee251-c456-4048-8fed-bd0057602c6f",
   "metadata": {},
   "source": [
    "<h3 style=\"text-align: center;\"><span style=\"color:red\">This example that can be overwritten by container updates.</span></h3>\n",
    "<h4 style=\"text-align: center;\"><span style=\"color:red\">Please create a new notebook if you plan to make changes.</span></h4>\n",
    "\n",
    "## Intro\n",
    "\n",
    "This example jupyter file demonstrates basic [stable diffusion](https://huggingface.co/docs/diffusers/api/pipelines/stable_diffusion/stable_diffusion_2#texttoimage) functionality.\n",
    "\n",
    "## Getting started\n",
    "\n",
    "Run each cell to step through the process, including (first-time only) downloading a model to use.\n",
    "Note: Run cells, in order, at least once, to set up the environment.  Once set up, you can change the prompt and rerun just that cell.  If you make changes in a cell, that cell should be rerun for the changes to take effect."
   ]
  },
  {
   "cell_type": "code",
   "execution_count": null,
   "id": "ba57c8c6-5fc1-495a-89f2-629c8587d14b",
   "metadata": {},
   "outputs": [],
   "source": [
    "from dataclasses import dataclass, field, asdict\n",
    "import torch\n",
    "\n",
    "@dataclass\n",
    "class Model:\n",
    "    name: str\n",
    "    repo_id: str\n",
    "    variant: str = None\n",
    "    torch_dtype: str = None\n",
    "    foldername: str = field(init=False)\n",
    "\n",
    "    def __post_init__(self):\n",
    "        # Set the value of foldername based on repo_id\n",
    "        self.foldername = self.repo_id.split(\"/\")[1]\n",
    "\n",
    "    def fp16(self):\n",
    "        self.variant = \"fp16\"\n",
    "        self.torch_dtype = torch.float16\n",
    "        return self\n",
    "\n",
    "    def pretrain_options(self):\n",
    "        return self._filter([\"name\", \"repo_id\", \"foldername\"])\n",
    "\n",
    "    def _filter(self, excludes):\n",
    "        # Return the members that aren't set to None or in excludes\n",
    "        return {k:v for k,v in asdict(self).items() if (v is not None and k not in excludes)}\n",
    "\n",
    "models = {\n",
    "    \"sd2\"        : Model(\"sd2\", \"stabilityai/stable-diffusion-2-base\"),\n",
    "    \"sd-turbo\"   : Model(\"sd-turbo\", \"stabilityai/sd-turbo\"),\n",
    "    \"sdxl\"       : Model(\"sdxl\", \"stabilityai/stable-diffusion-xl-base-1.0\"),\n",
    "}\n",
    "\n",
    "model = models[\"sd2\"].fp16()\n",
    "model"
   ]
  },
  {
   "cell_type": "code",
   "execution_count": null,
   "id": "b002f935-e1f2-4bf3-8588-a0f372157569",
   "metadata": {},
   "outputs": [],
   "source": [
    "from diffusers import AutoPipelineForText2Image\n",
    "\n",
    "pipe = AutoPipelineForText2Image.from_pretrained(model.repo_id, **model.pretrain_options())\n",
    "pipe.to(\"cuda\")\n",
    "\n",
    "prompt = \"A cinematic shot of a baby racoon wearing an intricate italian priest robe.\"\n",
    "image = pipe(prompt=prompt).images[0]\n",
    "# image = pipe(prompt=prompt, num_inference_steps=25, guidance_scale=0.0).images[0]\n",
    "image"
   ]
  },
  {
   "cell_type": "code",
   "execution_count": null,
   "id": "e5e0843e-afae-4b61-a73c-18e608778286",
   "metadata": {
    "scrolled": true
   },
   "outputs": [],
   "source": [
    "from diffusers import DiffusionPipeline, DPMSolverMultistepScheduler\n",
    "import torch\n",
    "\n",
    "repo_id = \"stabilityai/stable-diffusion-2-base\"\n",
    "pipe = DiffusionPipeline.from_pretrained(repo_id, torch_dtype=torch.float16, variant=\"fp16\")\n",
    "\n",
    "pipe.scheduler = DPMSolverMultistepScheduler.from_config(pipe.scheduler.config)\n",
    "pipe = pipe.to(\"cuda\")\n",
    "\n",
    "prompt = \"High quality photo of an astronaut riding a horse in space\"\n",
    "image = pipe(prompt, num_inference_steps=25).images[0]\n",
    "image"
   ]
  },
  {
   "cell_type": "code",
   "execution_count": null,
   "id": "f239acde-6131-4b32-91f3-fb9935ecfb93",
   "metadata": {},
   "outputs": [],
   "source": [
    "from diffusers import StableDiffusionPipeline\n",
    "import torch\n",
    "\n",
    "# Check out https://huggingface.co/sd-dreambooth-library for loads of models from the community\n",
    "model_id = \"sd-dreambooth-library/mr-potato-head\"\n",
    "\n",
    "# Load the pipeline\n",
    "pipe = StableDiffusionPipeline.from_pretrained(model_id, torch_dtype=torch.float16).to(\"cuda\")"
   ]
  },
  {
   "cell_type": "code",
   "execution_count": null,
   "id": "82aaab62-f235-4456-93a8-6ce230102e29",
   "metadata": {},
   "outputs": [],
   "source": [
    "# prompt = \"an abstract oil painting of sks mr potato head by picasso\"\n",
    "prompt = \"anime carrie fisher hologram with R2-D2\"\n",
    "image = pipe(prompt, num_inference_steps=50, guidance_scale=7.5).images[0]\n",
    "image"
   ]
  },
  {
   "cell_type": "code",
   "execution_count": null,
   "id": "2fd3ca81-e56d-46ba-9b34-a43cb8bc5ab7",
   "metadata": {},
   "outputs": [],
   "source": [
    "from diffusers import AutoPipelineForText2Image\n",
    "import torch\n",
    "\n",
    "pipe = AutoPipelineForText2Image.from_pretrained(\"stabilityai/sd-turbo\", torch_dtype=torch.float16, variant=\"fp16\")\n",
    "pipe.to(\"cuda\")\n",
    "\n",
    "# prompt = \"A cinematic shot of a baby racoon wearing an intricate italian priest robe.\"\n",
    "prompt = \"anime carrie fisher hologram with R2-D2\"\n",
    "image = pipe(prompt=prompt, num_inference_steps=1, guidance_scale=0.0).images[0]\n",
    "image"
   ]
  },
  {
   "cell_type": "code",
   "execution_count": null,
   "id": "bbd00ab8-5f95-4a8e-8849-4eca178c8ee0",
   "metadata": {},
   "outputs": [],
   "source": [
    "from huggingface_hub import hf_hub_download\n",
    "from huggingface_hub import snapshot_download\n",
    "\n",
    "snapshot_download(repo_id=\"stabilityai/sd-turbo\", local_dir=\"/app/data/stabilityai/sd-turbo\")"
   ]
  },
  {
   "cell_type": "code",
   "execution_count": null,
   "id": "3e1a386b-9a1b-46f7-a896-4a1e495b2f98",
   "metadata": {},
   "outputs": [],
   "source": [
    "from diffusers import AutoPipelineForText2Image\n",
    "import torch\n",
    "\n",
    "# pipe = AutoPipelineForText2Image.from_pretrained(\"/app/data/stabilityai/sd-turbo\", torch_dtype=torch.float16, variant=\"fp16\")\n",
    "pipe = AutoPipelineForText2Image.from_pretrained(\"/app/data/stabilityai/sd-turbo\")\n",
    "pipe.to(\"cuda\")\n",
    "\n",
    "# prompt = \"A cinematic shot of a baby racoon wearing an intricate italian priest robe.\"\n",
    "prompt = \"A cute, fuzzy kitten fighting off a hawk with a slingshot.\"\n",
    "# prompt = \"anime carrie fisher hologram with R2-D2\"\n",
    "image = pipe(prompt=prompt, num_inference_steps=2, guidance_scale=0.0).images[0]\n",
    "image"
   ]
  },
  {
   "cell_type": "code",
   "execution_count": null,
   "id": "7e24a5ae-daac-46ac-858d-6b2acd4f5176",
   "metadata": {},
   "outputs": [],
   "source": [
    "import torch\n",
    "from diffusers import DiffusionPipeline, AutoencoderKL\n",
    "\n",
    "vae = AutoencoderKL.from_pretrained(\"madebyollin/sdxl-vae-fp16-fix\", torch_dtype=torch.float16)\n",
    "pipe = DiffusionPipeline.from_pretrained(\"stabilityai/stable-diffusion-xl-base-1.0\", vae=vae, torch_dtype=torch.float16, variant=\"fp16\", use_safetensors=True)\n",
    "pipe.to(\"cuda\")\n",
    "\n",
    "# refiner = DiffusionPipeline.from_pretrained(\"stabilityai/stable-diffusion-xl-refiner-1.0\", vae=vae, torch_dtype=torch.float16, use_safetensors=True, variant=\"fp16\")\n",
    "# refiner.to(\"cuda\")\n",
    "\n",
    "n_steps = 40\n",
    "high_noise_frac = 0.7\n",
    "\n",
    "prompt = \"A majestic lion jumping from a big stone at night\"\n",
    "\n",
    "pipe.enable_attention_slicing()\n",
    "n_steps = 10\n",
    "image = pipe(prompt=prompt, num_inference_steps=n_steps, denoising_end=high_noise_frac, output_type=\"latent\", height=128, width=128).images\n",
    "# image = pipe(prompt=prompt, num_inference_steps=n_steps, denoising_end=high_noise_frac, output_type=\"latent\").images\n",
    "# image = refiner(prompt=prompt, num_inference_steps=n_steps, denoising_start=high_noise_frac, image=image).images[0]\n",
    "image"
   ]
  },
  {
   "cell_type": "code",
   "execution_count": null,
   "id": "b6ccf32a-b3d8-4fac-a2ac-b8fa05f16c2f",
   "metadata": {},
   "outputs": [],
   "source": []
  }
 ],
 "metadata": {
  "kernelspec": {
   "display_name": "Python 3 (ipykernel)",
   "language": "python",
   "name": "python3"
  },
  "language_info": {
   "codemirror_mode": {
    "name": "ipython",
    "version": 3
   },
   "file_extension": ".py",
   "mimetype": "text/x-python",
   "name": "python",
   "nbconvert_exporter": "python",
   "pygments_lexer": "ipython3",
   "version": "3.11.7"
  }
 },
 "nbformat": 4,
 "nbformat_minor": 5
}
